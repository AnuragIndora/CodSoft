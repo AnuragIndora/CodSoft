{
 "cells": [
  {
   "cell_type": "code",
   "execution_count": null,
   "metadata": {
    "ExecuteTime": {
     "end_time": "2024-05-28T05:01:21.512115Z",
     "start_time": "2024-05-28T05:01:21.350857Z"
    }
   },
   "outputs": [],
   "source": [
    "import pandas as pd, matplotlib.pyplot as plt, plotly.express as px, seaborn as sns\n",
    "from sklearn.preprocessing import StandardScaler\n",
    "import pickle\n",
    "\n",
    "%matplotlib inline\n",
    "sns.set_theme(context = 'notebook', style='darkgrid',palette='muted')"
   ]
  },
  {
   "cell_type": "code",
   "execution_count": null,
   "metadata": {
    "ExecuteTime": {
     "end_time": "2024-05-28T05:01:21.927513Z",
     "start_time": "2024-05-28T05:01:21.514374Z"
    }
   },
   "outputs": [],
   "source": [
    "df = pd.read_csv(\"Dataset/data.csv\")\n",
    "df.sample()"
   ]
  },
  {
   "cell_type": "code",
   "execution_count": null,
   "metadata": {},
   "outputs": [],
   "source": [
    "plt.figure(figsize=(6, 3))\n",
    "image1 = sns.histplot(df, x=\"amt\", bins=30, kde=True, color='red')\n",
    "plt.title(\"Distribution of Transaction Amount (amt)\")\n",
    "plt.xlabel(\"Amount\")\n",
    "plt.ylabel(\"count\")"
   ]
  },
  {
   "cell_type": "code",
   "execution_count": null,
   "metadata": {},
   "outputs": [],
   "source": [
    "# Distribution of Amount analyse by Scatter plots\n",
    "\n",
    "fig = px.scatter(df, x = 'amt', y =df.index, color=df['is_fraud'], title = 'Distribution of Amount Values')\n",
    "fig.update_layout(xaxis_title='Transaction Amount', yaxis_title='No. of Transactions')\n",
    "fig.show()\n"
   ]
  },
  {
   "cell_type": "code",
   "execution_count": null,
   "metadata": {},
   "outputs": [],
   "source": [
    "plt.figure(figsize=(4, 6))\n",
    "sns.boxplot(data=df, y=\"amt\")\n",
    "plt.ylabel(\"amount\")\n",
    "plt.title(\"Outliers Detections in Amount\")"
   ]
  },
  {
   "cell_type": "markdown",
   "metadata": {},
   "source": [
    "To Analyze whole the visuals we find that the maximum transactions amount is inbetween 0 to 5k ."
   ]
  },
  {
   "cell_type": "code",
   "execution_count": null,
   "metadata": {},
   "outputs": [],
   "source": [
    "# Distribution of Fraudulent Amount\n",
    "\n",
    "fig = px.scatter(df.query(\"is_fraud == 1\"), x = 'amt', y = df.query(\"is_fraud == 1\").index, title = 'Distribution of Fraudulent Amount')\n",
    "fig.update_layout(xaxis_title='Transaction Amount', yaxis_title='No. of Transactions')\n",
    "fig.show()"
   ]
  },
  {
   "cell_type": "code",
   "execution_count": null,
   "metadata": {},
   "outputs": [],
   "source": [
    "# Distribution of Non-Fraudulent Amount\n",
    "\n",
    "fig = px.scatter(df.query(\"is_fraud == 0\"), x = 'amt', y = df.query(\"is_fraud == 0\").index, title = 'Distribution of Non-Fraudulent Amount')\n",
    "fig.update_layout(xaxis_title='Transaction Amount', yaxis_title='No. of Transactions')\n",
    "fig.show()"
   ]
  },
  {
   "cell_type": "code",
   "execution_count": null,
   "metadata": {},
   "outputs": [],
   "source": [
    "plt.figure(figsize=(8, 6))\n",
    "sns.histplot(df, x=\"city_pop\", bins=30, kde=True, color='red')"
   ]
  },
  {
   "cell_type": "code",
   "execution_count": null,
   "metadata": {},
   "outputs": [],
   "source": [
    "plt.figure(figsize=(4, 6))\n",
    "sns.boxplot(data=df, y=\"city_pop\")\n",
    "plt.ylabel(\"City Population\")\n",
    "plt.title(\"Box plot of city population and Visulization of Outliers\")"
   ]
  },
  {
   "cell_type": "markdown",
   "metadata": {},
   "source": [
    "This conclusion gives lots of outliers exist in this dataset <br> \n",
    "So we cannot remove outliers then we choose that type of classification method which robust outliers and doesn't effect on our predictions "
   ]
  },
  {
   "cell_type": "code",
   "execution_count": null,
   "metadata": {},
   "outputs": [],
   "source": [
    "plt.figure(figsize=(6, 4))\n",
    "sns.countplot(data=df, x='category', order=df['category'].value_counts().index)\n",
    "plt.xticks(rotation=90)"
   ]
  },
  {
   "cell_type": "code",
   "execution_count": null,
   "metadata": {},
   "outputs": [],
   "source": [
    "plt.figure(figsize=(6, 4))\n",
    "sns.countplot(data=df, x='category', hue='is_fraud')\n",
    "plt.xticks(rotation=90)"
   ]
  },
  {
   "cell_type": "markdown",
   "metadata": {},
   "source": [
    "This countplot shared that Fraudulent transaction and Non-Fraudulent Transaction <br> \n",
    "The dataset is imbalanced, the number of non-fraudulent transactions is much higher than the number of fraudulent transactions. <br>"
   ]
  },
  {
   "cell_type": "code",
   "execution_count": null,
   "metadata": {},
   "outputs": [],
   "source": [
    "plt.figure(figsize=(4, 4))\n",
    "df['gender'].value_counts().plot(kind='pie', autopct=\"%1.1f%%\")"
   ]
  },
  {
   "cell_type": "code",
   "execution_count": null,
   "metadata": {},
   "outputs": [],
   "source": [
    "plt.figure(figsize=(6, 4))\n",
    "sns.countplot(data=df, x='gender', hue='is_fraud')"
   ]
  },
  {
   "cell_type": "code",
   "execution_count": null,
   "metadata": {},
   "outputs": [],
   "source": [
    "plt.figure(figsize=(6, 4))\n",
    "sns.countplot(data=df, x='time_of_day', hue='is_fraud')"
   ]
  },
  {
   "cell_type": "code",
   "execution_count": null,
   "metadata": {},
   "outputs": [],
   "source": [
    "plt.figure(figsize=(4, 4))\n",
    "df['time_of_day'].value_counts().plot(kind=\"pie\", autopct=\"%1.1f%%\")\n",
    "plt.ylabel('')\n",
    "plt.title('Time of Day')"
   ]
  },
  {
   "cell_type": "code",
   "execution_count": null,
   "metadata": {},
   "outputs": [],
   "source": [
    "plt.figure(figsize=(4, 4))\n",
    "df['Age'].value_counts().plot(kind='pie', autopct=\"%1.1f%%\")\n",
    "plt.ylabel('')\n",
    "plt.title('Age Category')"
   ]
  },
  {
   "cell_type": "code",
   "execution_count": null,
   "metadata": {},
   "outputs": [],
   "source": [
    "plt.figure(figsize=(6, 4))\n",
    "sns.countplot(data=df, x='Age', hue='is_fraud')\n",
    "plt.title(\"Fraud by Age Group\")"
   ]
  },
  {
   "cell_type": "code",
   "execution_count": null,
   "metadata": {},
   "outputs": [],
   "source": [
    "df['is_fraud'].value_counts()"
   ]
  },
  {
   "cell_type": "markdown",
   "metadata": {},
   "source": [
    "according to this dataset we analyze that 99.42 % data is fraudlent <br>\n",
    "this implies this dataset is not balanced and this is a huge dataset we have mostly non-fraudlent data transactions "
   ]
  },
  {
   "cell_type": "code",
   "execution_count": null,
   "metadata": {},
   "outputs": [],
   "source": [
    "df['is_fraud'].value_counts().plot.bar(color=['green', 'red'])"
   ]
  },
  {
   "cell_type": "code",
   "execution_count": null,
   "metadata": {},
   "outputs": [],
   "source": [
    "# making py chart to get percentage of both \n",
    "df['is_fraud'].value_counts().plot(kind=\"pie\", autopct=\"%1.2f%%\")\n",
    "plt.ylabel('')\n",
    "plt.title('Fraudulent vs Non-Fraudulent Transactions')"
   ]
  },
  {
   "cell_type": "code",
   "execution_count": null,
   "metadata": {},
   "outputs": [],
   "source": []
  }
 ],
 "metadata": {
  "kernelspec": {
   "display_name": "Python 3 (ipykernel)",
   "language": "python",
   "name": "python3"
  },
  "language_info": {
   "codemirror_mode": {
    "name": "ipython",
    "version": 3
   },
   "file_extension": ".py",
   "mimetype": "text/x-python",
   "name": "python",
   "nbconvert_exporter": "python",
   "pygments_lexer": "ipython3",
   "version": "3.11.9"
  }
 },
 "nbformat": 4,
 "nbformat_minor": 4
}
